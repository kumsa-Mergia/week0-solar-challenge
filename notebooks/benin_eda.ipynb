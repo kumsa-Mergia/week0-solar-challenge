{
 "cells": [
  {
   "cell_type": "code",
   "execution_count": null,
   "id": "d399ffa0",
   "metadata": {},
   "outputs": [],
   "source": [
    "import pandas as pd\n",
    "import numpy as np\n",
    "import matplotlib.pyplot as plt\n",
    "import seaborn as sns\n",
    "from scipy import stats\n",
    "import os"
   ]
  },
  {
   "cell_type": "markdown",
   "id": "72b18533",
   "metadata": {},
   "source": [
    "# Load the Benin dataset"
   ]
  },
  {
   "cell_type": "code",
   "execution_count": null,
   "id": "3e361d2d",
   "metadata": {},
   "outputs": [],
   "source": [
    "file_path = '../data/benin-malanville.csv'"
   ]
  },
  {
   "cell_type": "code",
   "execution_count": null,
   "id": "30f3ee40",
   "metadata": {},
   "outputs": [],
   "source": [
    "try:\n",
    "    df = pd.read_csv(file_path)\n",
    "    print(f\"Successfully loaded: {file_path}\")\n",
    "except FileNotFoundError:\n",
    "    print(f\"Error: File not found at {file_path}\")"
   ]
  }
 ],
 "metadata": {
  "kernelspec": {
   "display_name": "venv",
   "language": "python",
   "name": "python3"
  },
  "language_info": {
   "name": "python",
   "version": "3.12.3"
  }
 },
 "nbformat": 4,
 "nbformat_minor": 5
}
